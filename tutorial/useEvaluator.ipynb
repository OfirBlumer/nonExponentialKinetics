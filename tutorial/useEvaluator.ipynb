{
 "cells": [
  {
   "cell_type": "code",
   "execution_count": 1,
   "id": "4a40f8d6-bc49-4fdf-b223-2fbd995b02cf",
   "metadata": {},
   "outputs": [
    {
     "name": "stderr",
     "output_type": "stream",
     "text": [
      "/home/ofirblumer/.local/lib/python3.8/site-packages/scipy/__init__.py:146: UserWarning: A NumPy version >=1.16.5 and <1.23.0 is required for this version of SciPy (detected version 1.23.5\n",
      "  warnings.warn(f\"A NumPy version >={np_minversion} and <{np_maxversion}\"\n"
     ]
    }
   ],
   "source": [
    "import numpy as np\n",
    "from scipy.stats import pareto\n",
    "from evaluator import evaluator\n",
    "\n",
    "np.random.seed(242874)\n",
    "myEvaluator = evaluator()"
   ]
  },
  {
   "cell_type": "markdown",
   "id": "336388df-2311-4614-8b54-f09e5144abf1",
   "metadata": {},
   "source": [
    "Here we show how to use the evaluator class to estimate the unbiased MFPT from simulations accelerated with resetting.\n",
    "\n",
    "First, we sample 100 trajectories with resetting from the hyperexponential distribution of the paper (Equation 6). We use a timer of $T^*=2$."
   ]
  },
  {
   "cell_type": "code",
   "execution_count": 2,
   "id": "4728436f-35cf-4ae7-bfc1-34968c4e385e",
   "metadata": {},
   "outputs": [
    {
     "name": "stdout",
     "output_type": "stream",
     "text": [
      "MFPT with timer of 2 is 0.212, a speedup of 23.63\n"
     ]
    }
   ],
   "source": [
    "exact = 5.005\n",
    "\n",
    "p = 0.5\n",
    "l2 = 0.00001\n",
    "l1 = l2 * 1000\n",
    "b = np.linspace(0.5, 1000000.5, 1000000)\n",
    "CDF = 1 - (1 - p) * np.exp(-l1 * b) - p * np.exp(-l2 * b)\n",
    "density = CDF[1:] - CDF[:-1]\n",
    "density = density / sum(density)\n",
    "bins = np.linspace(1, 1000000, 999999)\n",
    "\n",
    "fpts = []\n",
    "endTimes = []\n",
    "count = 0\n",
    "timer = 2000\n",
    "time = 0\n",
    "while count < 100:\n",
    "    new = np.random.choice(bins, p = density)\n",
    "    endTimes.append(new)\n",
    "    time += min([new, timer])\n",
    "    if new < timer:\n",
    "        count += 1\n",
    "        fpts.append(time)\n",
    "        time = 0\n",
    "MFPT = np.mean(fpts) / 10000\n",
    "print(\"MFPT with timer of 2 is {:.3f}, a speedup of {:.2f}\".format(MFPT, exact / MFPT))"
   ]
  },
  {
   "cell_type": "markdown",
   "id": "0bab21b0-91f5-4b57-ac0a-cad9a6b91039",
   "metadata": {},
   "source": [
    "We obtain the estimation for the unbiased MFPT using the estimate function."
   ]
  },
  {
   "cell_type": "code",
   "execution_count": 3,
   "id": "e76ae716-d483-4e68-8aac-22bff32956f9",
   "metadata": {},
   "outputs": [
    {
     "name": "stdout",
     "output_type": "stream",
     "text": [
      "The estimated MFPT is 4.85, an error of 3.14%\n"
     ]
    }
   ],
   "source": [
    "estimated = myEvaluator.estimate(endTimes) / 10000\n",
    "error = abs(estimated - exact) / exact * 100\n",
    "print(\"The estimated MFPT is {:.2f}, an error of {:.2f}%\".format(estimated, error))"
   ]
  },
  {
   "cell_type": "markdown",
   "id": "0749a6b0-84e6-4f3f-b9bd-1c36f610e31a",
   "metadata": {},
   "source": [
    "By default, the function assumes that all terms in the endTimes array end in first-passage or with a timer which equals the maximum of the array.\n",
    "We can also explicitly define the timer, which can be usefull when combining data obtained with different timers. Then, we can safely use the shortest of these timers. Below we give an example where we add 200 trajectories with a timer of $T^*=1.5$."
   ]
  },
  {
   "cell_type": "code",
   "execution_count": 4,
   "id": "4f34c461-2794-4e7c-81a8-5a9cbc1a015a",
   "metadata": {},
   "outputs": [
    {
     "name": "stdout",
     "output_type": "stream",
     "text": [
      "The estimated MFPT is 3.97, an error of 20.65%.\n"
     ]
    }
   ],
   "source": [
    "count = 0\n",
    "timer = 1500\n",
    "time = 0\n",
    "while count < 200:\n",
    "    new = np.random.choice(bins, p = density)\n",
    "    endTimes.append(new)\n",
    "    time += min([new, timer])\n",
    "    if new < timer:\n",
    "        count += 1\n",
    "        fpts.append(time)\n",
    "        time = 0\n",
    "\n",
    "estimated = myEvaluator.estimate(endTimes, timer = timer) / 10000\n",
    "error = abs(estimated - exact) / exact * 100\n",
    "print(\"The estimated MFPT is {:.2f}, an error of {:.2f}%.\".format(estimated, error))"
   ]
  },
  {
   "cell_type": "markdown",
   "id": "ef3367e7-c58a-4490-8714-21e2f1ac2e4c",
   "metadata": {},
   "source": [
    "We can also retrieve the estimated $t'$ and $k$."
   ]
  },
  {
   "cell_type": "code",
   "execution_count": 5,
   "id": "0f223f2b-cc78-4f57-915f-d179bec21ecd",
   "metadata": {},
   "outputs": [
    {
     "name": "stdout",
     "output_type": "stream",
     "text": [
      "The estimated MFPT is 3.97, k is 0.13, and t' is 0.05\n"
     ]
    }
   ],
   "source": [
    "params = myEvaluator.estimate(endTimes, timer = timer, returnParams = True)\n",
    "print(r\"The estimated MFPT is {:.2f}, k is {:.2f}, and t' is {:.2f}\".format(params[\"MFPT\"] / 10000, params[\"k\"] * 10000, params[\"tPrime\"] / 10000))"
   ]
  },
  {
   "cell_type": "markdown",
   "id": "40678824-2074-459a-a655-4d4dca00c6a3",
   "metadata": {},
   "source": [
    "By default, the function uses at least 5 terms for the linear fit of the survival function. We can change this parameter, for instance, to 10 values.\n",
    "We can also obtain a table of all the calculated linear fits for all choices of $t'$, along with their $R^2$ values."
   ]
  },
  {
   "cell_type": "code",
   "execution_count": 6,
   "id": "25b0a1be-d61e-4ca0-898b-1e3e79cab36f",
   "metadata": {},
   "outputs": [
    {
     "data": {
      "text/html": [
       "<div>\n",
       "<style scoped>\n",
       "    .dataframe tbody tr th:only-of-type {\n",
       "        vertical-align: middle;\n",
       "    }\n",
       "\n",
       "    .dataframe tbody tr th {\n",
       "        vertical-align: top;\n",
       "    }\n",
       "\n",
       "    .dataframe thead th {\n",
       "        text-align: right;\n",
       "    }\n",
       "</style>\n",
       "<table border=\"1\" class=\"dataframe\">\n",
       "  <thead>\n",
       "    <tr style=\"text-align: right;\">\n",
       "      <th></th>\n",
       "      <th>tPrime</th>\n",
       "      <th>slope</th>\n",
       "      <th>R</th>\n",
       "    </tr>\n",
       "  </thead>\n",
       "  <tbody>\n",
       "    <tr>\n",
       "      <th>281</th>\n",
       "      <td>298.000297</td>\n",
       "      <td>-0.000046</td>\n",
       "      <td>0.622605</td>\n",
       "    </tr>\n",
       "    <tr>\n",
       "      <th>282</th>\n",
       "      <td>300.000299</td>\n",
       "      <td>-0.000044</td>\n",
       "      <td>0.638812</td>\n",
       "    </tr>\n",
       "    <tr>\n",
       "      <th>283</th>\n",
       "      <td>303.000302</td>\n",
       "      <td>-0.000041</td>\n",
       "      <td>0.655572</td>\n",
       "    </tr>\n",
       "    <tr>\n",
       "      <th>284</th>\n",
       "      <td>307.000306</td>\n",
       "      <td>-0.000039</td>\n",
       "      <td>0.673072</td>\n",
       "    </tr>\n",
       "    <tr>\n",
       "      <th>285</th>\n",
       "      <td>314.000313</td>\n",
       "      <td>-0.000036</td>\n",
       "      <td>0.691498</td>\n",
       "    </tr>\n",
       "    <tr>\n",
       "      <th>286</th>\n",
       "      <td>316.000315</td>\n",
       "      <td>-0.000034</td>\n",
       "      <td>0.711958</td>\n",
       "    </tr>\n",
       "    <tr>\n",
       "      <th>287</th>\n",
       "      <td>324.000323</td>\n",
       "      <td>-0.000031</td>\n",
       "      <td>0.731939</td>\n",
       "    </tr>\n",
       "    <tr>\n",
       "      <th>288</th>\n",
       "      <td>328.000327</td>\n",
       "      <td>-0.000029</td>\n",
       "      <td>0.753347</td>\n",
       "    </tr>\n",
       "    <tr>\n",
       "      <th>289</th>\n",
       "      <td>341.000340</td>\n",
       "      <td>-0.000027</td>\n",
       "      <td>0.773228</td>\n",
       "    </tr>\n",
       "    <tr>\n",
       "      <th>290</th>\n",
       "      <td>358.000357</td>\n",
       "      <td>-0.000024</td>\n",
       "      <td>0.794298</td>\n",
       "    </tr>\n",
       "  </tbody>\n",
       "</table>\n",
       "</div>"
      ],
      "text/plain": [
       "         tPrime     slope         R\n",
       "281  298.000297 -0.000046  0.622605\n",
       "282  300.000299 -0.000044  0.638812\n",
       "283  303.000302 -0.000041  0.655572\n",
       "284  307.000306 -0.000039  0.673072\n",
       "285  314.000313 -0.000036  0.691498\n",
       "286  316.000315 -0.000034  0.711958\n",
       "287  324.000323 -0.000031  0.731939\n",
       "288  328.000327 -0.000029  0.753347\n",
       "289  341.000340 -0.000027  0.773228\n",
       "290  358.000357 -0.000024  0.794298"
      ]
     },
     "execution_count": 6,
     "metadata": {},
     "output_type": "execute_result"
    }
   ],
   "source": [
    "myEvaluator.estimate(endTimes, timer = timer, returnTable = True, minSamples = 10)[-10:]"
   ]
  },
  {
   "cell_type": "markdown",
   "id": "efb116f8-406e-4003-9ff0-1246aebf3869",
   "metadata": {},
   "source": [
    "Finally, the default assumption for the tail is an exponential. We can also assume a power law, as we demonstrate for the pareto distribution (Equation 7) with a timer of $T^*=2$."
   ]
  },
  {
   "cell_type": "code",
   "execution_count": 7,
   "id": "667cc95d-02e7-4f9d-be09-775e8c891d25",
   "metadata": {},
   "outputs": [
    {
     "name": "stdout",
     "output_type": "stream",
     "text": [
      "MFPT with timer of 2 is 2.774, a speedup of 1.80\n",
      "The estimated MFPT is 3.67, an error of 26.52%\n"
     ]
    }
   ],
   "source": [
    "exact = 5\n",
    "\n",
    "fpts = []\n",
    "endTimes = []\n",
    "count = 0\n",
    "timer = 2\n",
    "time = 0\n",
    "while count < 100:\n",
    "    new = pareto.rvs(b=1.25)\n",
    "    endTimes.append(new)\n",
    "    time += min([new, timer])\n",
    "    if new < timer:\n",
    "        count += 1\n",
    "        fpts.append(time)\n",
    "        time = 0\n",
    "        \n",
    "MFPT = np.mean(fpts)\n",
    "estimated = myEvaluator.estimate(endTimes, tail = \"power\")\n",
    "error = abs(estimated - exact) / exact * 100\n",
    "print(\"MFPT with timer of 2 is {:.3f}, a speedup of {:.2f}\".format(MFPT, exact / MFPT))\n",
    "print(\"The estimated MFPT is {:.2f}, an error of {:.2f}%\".format(estimated, error))"
   ]
  }
 ],
 "metadata": {
  "kernelspec": {
   "display_name": "Python 3 (ipykernel)",
   "language": "python",
   "name": "python3"
  },
  "language_info": {
   "codemirror_mode": {
    "name": "ipython",
    "version": 3
   },
   "file_extension": ".py",
   "mimetype": "text/x-python",
   "name": "python",
   "nbconvert_exporter": "python",
   "pygments_lexer": "ipython3",
   "version": "3.8.10"
  }
 },
 "nbformat": 4,
 "nbformat_minor": 5
}
